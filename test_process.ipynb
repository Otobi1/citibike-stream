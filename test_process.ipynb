{
 "cells": [
  {
   "cell_type": "code",
   "id": "initial_id",
   "metadata": {
    "collapsed": true,
    "ExecuteTime": {
     "end_time": "2024-12-29T13:44:25.518692Z",
     "start_time": "2024-12-29T13:44:14.732147Z"
    }
   },
   "source": [
    "import os\n",
    "import zipfile\n",
    "import pandas as pd\n",
    "from pathlib import Path\n",
    "import logging\n",
    "import sys\n",
    "import re"
   ],
   "outputs": [],
   "execution_count": 2
  },
  {
   "metadata": {
    "ExecuteTime": {
     "end_time": "2024-12-29T13:44:28.049693Z",
     "start_time": "2024-12-29T13:44:28.046268Z"
    }
   },
   "cell_type": "code",
   "source": [
    "logging.basicConfig(\n",
    "    level=logging.INFO,\n",
    "    format='%(asctime)s %(levelname)s:%(message)s',\n",
    "    handlers=[\n",
    "        logging.StreamHandler(sys.stdout)\n",
    "    ]\n",
    ")"
   ],
   "id": "f22ee331b9a6ff61",
   "outputs": [],
   "execution_count": 3
  },
  {
   "metadata": {
    "ExecuteTime": {
     "end_time": "2024-12-29T13:53:23.916343Z",
     "start_time": "2024-12-29T13:53:23.913615Z"
    }
   },
   "cell_type": "code",
   "source": [
    "DOWNLOAD_DIR = os.getenv(\"DOWNLOAD_DIR\", \"/data/download_tripdata\")\n",
    "PROCESSED_DIR = os.getenv(\"PROCESSED_DIR\", \"/data/processed_tripdata\")"
   ],
   "id": "f4d1acb1d515c9d7",
   "outputs": [],
   "execution_count": 9
  },
  {
   "metadata": {
    "ExecuteTime": {
     "end_time": "2024-12-29T13:53:25.293802Z",
     "start_time": "2024-12-29T13:53:25.278422Z"
    }
   },
   "cell_type": "code",
   "source": "os.makedirs(PROCESSED_DIR, exist_ok=True)",
   "id": "6af3a1c183f896ad",
   "outputs": [
    {
     "ename": "OSError",
     "evalue": "[Errno 30] Read-only file system: '/data'",
     "output_type": "error",
     "traceback": [
      "\u001B[0;31m---------------------------------------------------------------------------\u001B[0m",
      "\u001B[0;31mOSError\u001B[0m                                   Traceback (most recent call last)",
      "Cell \u001B[0;32mIn[10], line 1\u001B[0m\n\u001B[0;32m----> 1\u001B[0m \u001B[43mos\u001B[49m\u001B[38;5;241;43m.\u001B[39;49m\u001B[43mmakedirs\u001B[49m\u001B[43m(\u001B[49m\u001B[43mPROCESSED_DIR\u001B[49m\u001B[43m,\u001B[49m\u001B[43m \u001B[49m\u001B[43mexist_ok\u001B[49m\u001B[38;5;241;43m=\u001B[39;49m\u001B[38;5;28;43;01mTrue\u001B[39;49;00m\u001B[43m)\u001B[49m\n",
      "File \u001B[0;32m<frozen os>:217\u001B[0m, in \u001B[0;36mmakedirs\u001B[0;34m(name, mode, exist_ok)\u001B[0m\n",
      "File \u001B[0;32m<frozen os>:227\u001B[0m, in \u001B[0;36mmakedirs\u001B[0;34m(name, mode, exist_ok)\u001B[0m\n",
      "\u001B[0;31mOSError\u001B[0m: [Errno 30] Read-only file system: '/data'"
     ]
    }
   ],
   "execution_count": 10
  },
  {
   "metadata": {},
   "cell_type": "code",
   "outputs": [],
   "execution_count": null,
   "source": [
    "def extract_zip(file_path, extract_to):\n",
    "    try:\n",
    "        with zipfile.ZipFile(file_path, 'r') as zip_ref:\n",
    "            zip_ref.extractall(extract_to)\n",
    "        logging.info(f\"Extracted {file_path} to {extract_to}\")\n",
    "    except zipfile.BadZipFile as e:\n",
    "        logging.error(f\"Bad zip file {file_path}: {e}\")\n",
    "    except Exception as e:\n",
    "        logging.error(f\"Error extracting {file_path}: {e}\")"
   ],
   "id": "33a9849c1f23316"
  },
  {
   "metadata": {},
   "cell_type": "code",
   "outputs": [],
   "execution_count": null,
   "source": [
    "def process_csv(file_path):\n",
    "    try:\n",
    "        df = pd.read_csv(file_path)\n",
    "        logging.info(f\"Read CSV file {file_path} with {len(df)} records.\")\n",
    "        # Data Cleaning: Handle missing values\n",
    "        df = df.dropna(subset=['ride_id', 'started_at', 'ended_at'])\n",
    "        df = df.fillna({'rideable_type': 'unknown', 'member_casual': 'unknown'})\n",
    "        return df\n",
    "    except Exception as e:\n",
    "        logging.error(f\"Error processing CSV file {file_path}: {e}\")\n",
    "        return pd.DataFrame()  # Return empty DataFrame on failure"
   ],
   "id": "1317dd8e2f62a634"
  },
  {
   "metadata": {},
   "cell_type": "code",
   "outputs": [],
   "execution_count": null,
   "source": [
    "def main():\n",
    "    zip_files = list(Path(DOWNLOAD_DIR).glob(\"*.zip\"))\n",
    "    if not zip_files:\n",
    "        logging.info(\"No zip files found to process.\")\n",
    "        sys.exit(0)\n",
    "\n",
    "    all_dfs = []\n",
    "\n",
    "    for zip_file in zip_files:\n",
    "        extract_zip(zip_file, PROCESSED_DIR)\n",
    "\n",
    "    # Find all CSV files after extraction\n",
    "    csv_files = list(Path(PROCESSED_DIR).glob(\"*.csv\"))\n",
    "    if not csv_files:\n",
    "        logging.warning(\"No CSV files found after extraction.\")\n",
    "        sys.exit(0)\n",
    "\n",
    "    for csv_file in csv_files:\n",
    "        df = process_csv(csv_file)\n",
    "        if not df.empty:\n",
    "            all_dfs.append(df)\n",
    "\n",
    "    if not all_dfs:\n",
    "        logging.warning(\"No data to ingest after processing CSV files.\")\n",
    "        sys.exit(0)\n",
    "\n",
    "    # Concatenate all DataFrames\n",
    "    combined_df = pd.concat(all_dfs, ignore_index=True)\n",
    "    logging.info(f\"Combined DataFrame has {len(combined_df)} records.\")\n",
    "\n",
    "    # Save the combined DataFrame to a single CSV file\n",
    "    output_file = os.path.join(PROCESSED_DIR, \"combined_tripdata.csv\")\n",
    "    combined_df.to_csv(output_file, index=False)\n",
    "    logging.info(f\"Saved combined data to {output_file}\")"
   ],
   "id": "379568b2838481c"
  },
  {
   "metadata": {},
   "cell_type": "code",
   "outputs": [],
   "execution_count": null,
   "source": [
    "if __name__ == \"__main__\":\n",
    "    main()"
   ],
   "id": "12ca783d95b39074"
  }
 ],
 "metadata": {
  "kernelspec": {
   "display_name": "Python 3",
   "language": "python",
   "name": "python3"
  },
  "language_info": {
   "codemirror_mode": {
    "name": "ipython",
    "version": 2
   },
   "file_extension": ".py",
   "mimetype": "text/x-python",
   "name": "python",
   "nbconvert_exporter": "python",
   "pygments_lexer": "ipython2",
   "version": "2.7.6"
  }
 },
 "nbformat": 4,
 "nbformat_minor": 5
}
