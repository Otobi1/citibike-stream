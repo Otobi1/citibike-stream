{
 "cells": [
  {
   "metadata": {
    "collapsed": true,
    "ExecuteTime": {
     "end_time": "2024-12-29T10:40:18.026388Z",
     "start_time": "2024-12-29T10:40:17.967336Z"
    }
   },
   "cell_type": "code",
   "source": "import pyspark",
   "id": "initial_id",
   "outputs": [],
   "execution_count": 1
  },
  {
   "metadata": {
    "ExecuteTime": {
     "end_time": "2024-12-29T10:40:19.109896Z",
     "start_time": "2024-12-29T10:40:19.104415Z"
    }
   },
   "cell_type": "code",
   "source": "pyspark.__version__",
   "id": "b93434313faeb955",
   "outputs": [
    {
     "data": {
      "text/plain": [
       "'3.5.4'"
      ]
     },
     "execution_count": 2,
     "metadata": {},
     "output_type": "execute_result"
    }
   ],
   "execution_count": 2
  },
  {
   "metadata": {
    "ExecuteTime": {
     "end_time": "2024-12-29T10:40:20.362039Z",
     "start_time": "2024-12-29T10:40:20.359138Z"
    }
   },
   "cell_type": "code",
   "source": "pyspark.__file__",
   "id": "f98397826ebef3cf",
   "outputs": [
    {
     "data": {
      "text/plain": [
       "'/Users/tobi/Documents/projects/citibike-stream/citivenv/lib/python3.13/site-packages/pyspark/__init__.py'"
      ]
     },
     "execution_count": 3,
     "metadata": {},
     "output_type": "execute_result"
    }
   ],
   "execution_count": 3
  },
  {
   "metadata": {
    "ExecuteTime": {
     "end_time": "2024-12-29T10:40:22.473921Z",
     "start_time": "2024-12-29T10:40:22.471491Z"
    }
   },
   "cell_type": "code",
   "source": "from pyspark.sql import SparkSession",
   "id": "5dc16b1130bc73aa",
   "outputs": [],
   "execution_count": 4
  },
  {
   "metadata": {
    "ExecuteTime": {
     "end_time": "2024-12-29T10:40:24.726039Z",
     "start_time": "2024-12-29T10:40:24.721794Z"
    }
   },
   "cell_type": "code",
   "source": "pwd",
   "id": "251d0376b4bca875",
   "outputs": [
    {
     "data": {
      "text/plain": [
       "'/Users/tobi/Documents/projects/citibike-stream'"
      ]
     },
     "execution_count": 5,
     "metadata": {},
     "output_type": "execute_result"
    }
   ],
   "execution_count": 5
  },
  {
   "metadata": {
    "ExecuteTime": {
     "end_time": "2024-12-29T10:40:26.482149Z",
     "start_time": "2024-12-29T10:40:26.479401Z"
    }
   },
   "cell_type": "code",
   "source": "jdbc_driver_path = \"./python_app/jars/postgresql-42.5.4.jar\"",
   "id": "9eff16c02d8982f2",
   "outputs": [],
   "execution_count": 6
  },
  {
   "metadata": {
    "ExecuteTime": {
     "end_time": "2024-12-29T10:40:31.814588Z",
     "start_time": "2024-12-29T10:40:28.210209Z"
    }
   },
   "cell_type": "code",
   "source": [
    "spark = SparkSession.builder \\\n",
    "         .appName(\"testCitiBikeStationStatusTransform\") \\\n",
    "         .config(\"spark.jars\", jdbc_driver_path) \\\n",
    "         .master(\"local[*]\") \\\n",
    "         .getOrCreate()"
   ],
   "id": "4cf99d8809e9f8ba",
   "outputs": [
    {
     "name": "stderr",
     "output_type": "stream",
     "text": [
      "24/12/29 11:40:30 WARN NativeCodeLoader: Unable to load native-hadoop library for your platform... using builtin-java classes where applicable\n",
      "Setting default log level to \"WARN\".\n",
      "To adjust logging level use sc.setLogLevel(newLevel). For SparkR, use setLogLevel(newLevel).\n"
     ]
    }
   ],
   "execution_count": 7
  },
  {
   "metadata": {
    "ExecuteTime": {
     "end_time": "2024-12-29T10:40:33.409424Z",
     "start_time": "2024-12-29T10:40:33.406131Z"
    }
   },
   "cell_type": "code",
   "source": [
    "# POSTGRESQL connection parameters\n",
    "# POSTGRESQL_HOST = \"postgres\"\n",
    "POSTGRESQL_PORT = \"5432\"\n",
    "POSTGRES_DB = \"citibike_db\"\n",
    "POSTGRES_USER = \"citibike_user\"\n",
    "POSTGRES_PASSWORD = \"citibike_pass\"\n",
    "\n",
    "# JDBC URL\n",
    "# jdbc_url = f\"jdbc:postgresql://{POSTGRESQL_HOST}:{POSTGRESQL_PORT}/{POSTGRES_DB}\"\n",
    "\n",
    "jdbc_url = f\"jdbc:postgresql://localhost:{POSTGRESQL_PORT}/{POSTGRES_DB}\"\n",
    "\n",
    "# Connection properties\n",
    "connection_properties = {\n",
    "    \"user\": POSTGRES_USER,\n",
    "    \"password\": POSTGRES_PASSWORD,\n",
    "    \"driver\": \"org.postgresql.Driver\"\n",
    "}"
   ],
   "id": "54fc4d79fe6a3ffc",
   "outputs": [],
   "execution_count": 8
  },
  {
   "metadata": {
    "ExecuteTime": {
     "end_time": "2024-12-29T10:40:37.340702Z",
     "start_time": "2024-12-29T10:40:35.816054Z"
    }
   },
   "cell_type": "code",
   "source": [
    "df = spark.read \\\n",
    "    .jdbc(url=jdbc_url,\n",
    "          table=\"station_status\",\n",
    "          properties=connection_properties\n",
    "          )"
   ],
   "id": "81fea84b3fc4eb2a",
   "outputs": [],
   "execution_count": 9
  },
  {
   "metadata": {
    "ExecuteTime": {
     "end_time": "2024-12-29T10:40:38.545719Z",
     "start_time": "2024-12-29T10:40:38.540214Z"
    }
   },
   "cell_type": "code",
   "source": [
    "# Display schema\n",
    "df.printSchema()"
   ],
   "id": "3e206e50a8a8f416",
   "outputs": [
    {
     "name": "stdout",
     "output_type": "stream",
     "text": [
      "root\n",
      " |-- id: integer (nullable = true)\n",
      " |-- station_id: string (nullable = true)\n",
      " |-- num_bikes_available: integer (nullable = true)\n",
      " |-- num_docks_available: integer (nullable = true)\n",
      " |-- is_installed: boolean (nullable = true)\n",
      " |-- is_renting: boolean (nullable = true)\n",
      " |-- is_returning: boolean (nullable = true)\n",
      " |-- last_reported: timestamp (nullable = true)\n",
      " |-- inserted_at: timestamp (nullable = true)\n",
      "\n"
     ]
    }
   ],
   "execution_count": 10
  },
  {
   "metadata": {
    "ExecuteTime": {
     "end_time": "2024-12-29T10:40:44.997825Z",
     "start_time": "2024-12-29T10:40:41.071223Z"
    }
   },
   "cell_type": "code",
   "source": "df.show()",
   "id": "d09b6dd2489ab9f4",
   "outputs": [
    {
     "name": "stderr",
     "output_type": "stream",
     "text": [
      "                                                                                \r"
     ]
    },
    {
     "name": "stdout",
     "output_type": "stream",
     "text": [
      "+---+--------------------+-------------------+-------------------+------------+----------+------------+-------------------+--------------------+\n",
      "| id|          station_id|num_bikes_available|num_docks_available|is_installed|is_renting|is_returning|      last_reported|         inserted_at|\n",
      "+---+--------------------+-------------------+-------------------+------------+----------+------------+-------------------+--------------------+\n",
      "|  1|816e50eb-dc4b-47d...|                  0|                  0|       false|     false|       false|2024-11-05 17:22:24|2024-12-27 20:00:...|\n",
      "|  2|566a6389-5c22-49c...|                  0|                  0|       false|     false|       false|2024-11-11 15:41:13|2024-12-27 20:00:...|\n",
      "|  3|64f0f28c-bedc-42d...|                  0|                102|       false|     false|       false|2024-12-27 16:05:08|2024-12-27 20:00:...|\n",
      "|  4|66de85d2-0aca-11e...|                 27|                 17|        true|      true|        true|2024-12-27 19:57:08|2024-12-27 20:00:...|\n",
      "|  5|29ced315-14b5-4ed...|                 30|                 14|        true|      true|        true|2024-12-27 19:57:07|2024-12-27 20:00:...|\n",
      "|  6|4d24ab76-2f4a-400...|                 27|                  1|        true|      true|        true|2024-12-27 19:57:11|2024-12-27 20:00:...|\n",
      "|  7|cd2d9dab-7708-468...|                 22|                  1|        true|      true|        true|2024-12-27 19:57:10|2024-12-27 20:00:...|\n",
      "|  8|66db408f-0aca-11e...|                 25|                 14|        true|      true|        true|2024-12-27 19:57:12|2024-12-27 20:00:...|\n",
      "|  9|3db799ba-b574-4e5...|                 22|                  6|        true|      true|        true|2024-12-27 19:57:10|2024-12-27 20:00:...|\n",
      "| 10|29a41b09-698f-43e...|                 13|                  2|        true|      true|        true|2024-12-27 19:57:08|2024-12-27 20:00:...|\n",
      "| 11|66de73fd-0aca-11e...|                  6|                 19|        true|      true|        true|2024-12-27 19:57:08|2024-12-27 20:00:...|\n",
      "| 12|6d766daf-9298-405...|                 13|                  6|        true|      true|        true|2024-12-27 19:57:08|2024-12-27 20:00:...|\n",
      "| 13|38af3d1a-9916-46c...|                  7|                 14|        true|      true|        true|2024-12-27 19:57:09|2024-12-27 20:00:...|\n",
      "| 14|b4974d89-932c-4a9...|                  0|                 19|        true|      true|        true|2024-12-27 19:57:09|2024-12-27 20:00:...|\n",
      "| 15|807e9f5a-49b6-4b7...|                 16|                  1|        true|      true|        true|2024-12-27 19:57:13|2024-12-27 20:00:...|\n",
      "| 16|66dc0f8a-0aca-11e...|                 14|                 42|        true|      true|        true|2024-12-27 19:57:19|2024-12-27 20:00:...|\n",
      "| 17|59df3823-0369-4a1...|                 31|                 14|        true|      true|        true|2024-12-27 19:57:14|2024-12-27 20:00:...|\n",
      "| 18| 1880643645302280466|                 25|                  7|        true|      true|        true|2024-12-27 19:57:14|2024-12-27 20:00:...|\n",
      "| 19|d18512f9-52c8-417...|                  5|                 15|        true|      true|        true|2024-12-27 19:57:15|2024-12-27 20:00:...|\n",
      "| 20|66dc1d80-0aca-11e...|                  4|                 33|        true|      true|        true|2024-12-27 19:57:17|2024-12-27 20:00:...|\n",
      "+---+--------------------+-------------------+-------------------+------------+----------+------------+-------------------+--------------------+\n",
      "only showing top 20 rows\n",
      "\n"
     ]
    }
   ],
   "execution_count": 11
  },
  {
   "metadata": {
    "ExecuteTime": {
     "end_time": "2024-12-29T10:40:50.958042Z",
     "start_time": "2024-12-29T10:40:50.950833Z"
    }
   },
   "cell_type": "code",
   "source": "df.dtypes",
   "id": "eaaed3e330eacb42",
   "outputs": [
    {
     "data": {
      "text/plain": [
       "[('id', 'int'),\n",
       " ('station_id', 'string'),\n",
       " ('num_bikes_available', 'int'),\n",
       " ('num_docks_available', 'int'),\n",
       " ('is_installed', 'boolean'),\n",
       " ('is_renting', 'boolean'),\n",
       " ('is_returning', 'boolean'),\n",
       " ('last_reported', 'timestamp'),\n",
       " ('inserted_at', 'timestamp')]"
      ]
     },
     "execution_count": 12,
     "metadata": {},
     "output_type": "execute_result"
    }
   ],
   "execution_count": 12
  },
  {
   "metadata": {
    "ExecuteTime": {
     "end_time": "2024-12-29T10:40:53.642814Z",
     "start_time": "2024-12-29T10:40:53.639867Z"
    }
   },
   "cell_type": "code",
   "source": "from pyspark.sql import types",
   "id": "2fd0de12e5953470",
   "outputs": [],
   "execution_count": 13
  },
  {
   "metadata": {
    "ExecuteTime": {
     "end_time": "2024-12-29T10:40:55.893660Z",
     "start_time": "2024-12-29T10:40:55.887631Z"
    }
   },
   "cell_type": "code",
   "source": [
    "df_citibike_schema = \\\n",
    "    types.StructType([\n",
    "        types.StructField(\"id\", types.IntegerType(), False),\n",
    "        types.StructField(\"station_id\", types.StringType(), True),\n",
    "        types.StructField(\"num_bikes_available\", types.IntegerType(), True),\n",
    "        types.StructField(\"num_docks_available\", types.IntegerType(), True),\n",
    "        types.StructField(\"is_installed\", types.BooleanType(), True),\n",
    "        types.StructField(\"is_renting\", types.BooleanType(), True),\n",
    "        types.StructField(\"is_returning\", types.BooleanType(), True),\n",
    "        types.StructField(\"last_reported\", types.TimestampType(), True),\n",
    "        types.StructField(\"inserted_at\", types.TimestampType(), True)\n",
    "    ])"
   ],
   "id": "6e24c1c0b8d8dd2a",
   "outputs": [],
   "execution_count": 14
  },
  {
   "metadata": {
    "ExecuteTime": {
     "end_time": "2024-12-29T10:40:58.517440Z",
     "start_time": "2024-12-29T10:40:58.469887Z"
    }
   },
   "cell_type": "code",
   "source": "df.createOrReplaceTempView(\"station_status\")",
   "id": "2921462534021d28",
   "outputs": [],
   "execution_count": 15
  },
  {
   "metadata": {
    "ExecuteTime": {
     "end_time": "2024-12-29T10:41:02.728236Z",
     "start_time": "2024-12-29T10:41:01.512071Z"
    }
   },
   "cell_type": "code",
   "source": "spark.sql(\"SELECT * FROM station_status\").show()",
   "id": "6faf55028edf53fe",
   "outputs": [
    {
     "name": "stderr",
     "output_type": "stream",
     "text": [
      "[Stage 1:>                                                          (0 + 1) / 1]\r"
     ]
    },
    {
     "name": "stdout",
     "output_type": "stream",
     "text": [
      "+---+--------------------+-------------------+-------------------+------------+----------+------------+-------------------+--------------------+\n",
      "| id|          station_id|num_bikes_available|num_docks_available|is_installed|is_renting|is_returning|      last_reported|         inserted_at|\n",
      "+---+--------------------+-------------------+-------------------+------------+----------+------------+-------------------+--------------------+\n",
      "|  1|816e50eb-dc4b-47d...|                  0|                  0|       false|     false|       false|2024-11-05 17:22:24|2024-12-27 20:00:...|\n",
      "|  2|566a6389-5c22-49c...|                  0|                  0|       false|     false|       false|2024-11-11 15:41:13|2024-12-27 20:00:...|\n",
      "|  3|64f0f28c-bedc-42d...|                  0|                102|       false|     false|       false|2024-12-27 16:05:08|2024-12-27 20:00:...|\n",
      "|  4|66de85d2-0aca-11e...|                 27|                 17|        true|      true|        true|2024-12-27 19:57:08|2024-12-27 20:00:...|\n",
      "|  5|29ced315-14b5-4ed...|                 30|                 14|        true|      true|        true|2024-12-27 19:57:07|2024-12-27 20:00:...|\n",
      "|  6|4d24ab76-2f4a-400...|                 27|                  1|        true|      true|        true|2024-12-27 19:57:11|2024-12-27 20:00:...|\n",
      "|  7|cd2d9dab-7708-468...|                 22|                  1|        true|      true|        true|2024-12-27 19:57:10|2024-12-27 20:00:...|\n",
      "|  8|66db408f-0aca-11e...|                 25|                 14|        true|      true|        true|2024-12-27 19:57:12|2024-12-27 20:00:...|\n",
      "|  9|3db799ba-b574-4e5...|                 22|                  6|        true|      true|        true|2024-12-27 19:57:10|2024-12-27 20:00:...|\n",
      "| 10|29a41b09-698f-43e...|                 13|                  2|        true|      true|        true|2024-12-27 19:57:08|2024-12-27 20:00:...|\n",
      "| 11|66de73fd-0aca-11e...|                  6|                 19|        true|      true|        true|2024-12-27 19:57:08|2024-12-27 20:00:...|\n",
      "| 12|6d766daf-9298-405...|                 13|                  6|        true|      true|        true|2024-12-27 19:57:08|2024-12-27 20:00:...|\n",
      "| 13|38af3d1a-9916-46c...|                  7|                 14|        true|      true|        true|2024-12-27 19:57:09|2024-12-27 20:00:...|\n",
      "| 14|b4974d89-932c-4a9...|                  0|                 19|        true|      true|        true|2024-12-27 19:57:09|2024-12-27 20:00:...|\n",
      "| 15|807e9f5a-49b6-4b7...|                 16|                  1|        true|      true|        true|2024-12-27 19:57:13|2024-12-27 20:00:...|\n",
      "| 16|66dc0f8a-0aca-11e...|                 14|                 42|        true|      true|        true|2024-12-27 19:57:19|2024-12-27 20:00:...|\n",
      "| 17|59df3823-0369-4a1...|                 31|                 14|        true|      true|        true|2024-12-27 19:57:14|2024-12-27 20:00:...|\n",
      "| 18| 1880643645302280466|                 25|                  7|        true|      true|        true|2024-12-27 19:57:14|2024-12-27 20:00:...|\n",
      "| 19|d18512f9-52c8-417...|                  5|                 15|        true|      true|        true|2024-12-27 19:57:15|2024-12-27 20:00:...|\n",
      "| 20|66dc1d80-0aca-11e...|                  4|                 33|        true|      true|        true|2024-12-27 19:57:17|2024-12-27 20:00:...|\n",
      "+---+--------------------+-------------------+-------------------+------------+----------+------------+-------------------+--------------------+\n",
      "only showing top 20 rows\n",
      "\n"
     ]
    },
    {
     "name": "stderr",
     "output_type": "stream",
     "text": [
      "                                                                                \r"
     ]
    }
   ],
   "execution_count": 16
  },
  {
   "metadata": {
    "ExecuteTime": {
     "end_time": "2024-12-29T10:41:08.511356Z",
     "start_time": "2024-12-29T10:41:06.618623Z"
    }
   },
   "cell_type": "code",
   "source": [
    "agg_day = \\\n",
    "    spark.sql(\"\"\"\n",
    "              select\n",
    "                date_trunc('day', last_reported) as date,\n",
    "                count(*) as total_records\n",
    "              from station_status\n",
    "              group by date\n",
    "              order by date desc\n",
    "              \"\"\").show()"
   ],
   "id": "f49855ed01708089",
   "outputs": [
    {
     "name": "stderr",
     "output_type": "stream",
     "text": [
      "[Stage 2:>                                                          (0 + 1) / 1]\r"
     ]
    },
    {
     "name": "stdout",
     "output_type": "stream",
     "text": [
      "+-------------------+-------------+\n",
      "|               date|total_records|\n",
      "+-------------------+-------------+\n",
      "|2024-12-29 00:00:00|        63829|\n",
      "|2024-12-28 00:00:00|       234297|\n",
      "|2024-12-27 00:00:00|       289734|\n",
      "|2024-12-19 00:00:00|          266|\n",
      "|2024-12-16 00:00:00|          266|\n",
      "|2024-12-11 00:00:00|          266|\n",
      "|2024-12-05 00:00:00|          266|\n",
      "|2024-12-04 00:00:00|          266|\n",
      "|2024-12-02 00:00:00|          266|\n",
      "|2024-11-25 00:00:00|          266|\n",
      "|2024-11-19 00:00:00|          266|\n",
      "|2024-11-14 00:00:00|          266|\n",
      "|2024-11-13 00:00:00|          266|\n",
      "|2024-11-12 00:00:00|          798|\n",
      "|2024-11-11 00:00:00|          266|\n",
      "|2024-11-05 00:00:00|          266|\n",
      "|2024-10-24 00:00:00|          532|\n",
      "|2024-10-22 00:00:00|          266|\n",
      "|2024-08-26 00:00:00|          266|\n",
      "|2024-07-14 00:00:00|          266|\n",
      "+-------------------+-------------+\n",
      "only showing top 20 rows\n",
      "\n"
     ]
    },
    {
     "name": "stderr",
     "output_type": "stream",
     "text": [
      "                                                                                \r"
     ]
    }
   ],
   "execution_count": 17
  },
  {
   "metadata": {
    "ExecuteTime": {
     "end_time": "2024-12-29T10:41:27.588050Z",
     "start_time": "2024-12-29T10:41:27.417762Z"
    }
   },
   "cell_type": "code",
   "source": [
    "check_station_id = \\\n",
    "    spark.sql(\"\"\"\n",
    "              select\n",
    "                *\n",
    "              from station_status\n",
    "              where station_id = '1815968345907104578'\n",
    "              -- group by station_id\n",
    "              -- order by total_records desc\n",
    "              \"\"\").show()"
   ],
   "id": "81610e64ff650cf",
   "outputs": [
    {
     "name": "stdout",
     "output_type": "stream",
     "text": [
      "+-----+-------------------+-------------------+-------------------+------------+----------+------------+-------------------+--------------------+\n",
      "|   id|         station_id|num_bikes_available|num_docks_available|is_installed|is_renting|is_returning|      last_reported|         inserted_at|\n",
      "+-----+-------------------+-------------------+-------------------+------------+----------+------------+-------------------+--------------------+\n",
      "| 1869|1815968345907104578|                  5|                 23|        true|      true|        true|2024-12-27 19:58:11|2024-12-27 20:00:...|\n",
      "| 4187|1815968345907104578|                  5|                 23|        true|      true|        true|2024-12-27 19:59:29|2024-12-27 20:01:...|\n",
      "| 6253|1815968345907104578|                  5|                 23|        true|      true|        true|2024-12-27 19:59:29|2024-12-27 20:02:...|\n",
      "| 8663|1815968345907104578|                  5|                 23|        true|      true|        true|2024-12-27 20:01:30|2024-12-27 20:03:...|\n",
      "|10876|1815968345907104578|                  5|                 23|        true|      true|        true|2024-12-27 20:02:23|2024-12-27 20:04:...|\n",
      "|13120|1815968345907104578|                  5|                 23|        true|      true|        true|2024-12-27 20:03:32|2024-12-27 20:05:...|\n",
      "|15178|1815968345907104578|                  5|                 23|        true|      true|        true|2024-12-27 20:03:32|2024-12-27 20:06:...|\n",
      "|17601|1815968345907104578|                  5|                 23|        true|      true|        true|2024-12-27 20:05:33|2024-12-27 20:07:...|\n",
      "|19663|1815968345907104578|                  5|                 23|        true|      true|        true|2024-12-27 20:05:33|2024-12-27 20:08:...|\n",
      "|21991|1815968345907104578|                  5|                 23|        true|      true|        true|2024-12-27 20:07:34|2024-12-27 20:09:...|\n",
      "|24177|1815968345907104578|                  5|                 23|        true|      true|        true|2024-12-27 20:07:34|2024-12-27 20:10:...|\n",
      "|26502|1815968345907104578|                  5|                 23|        true|      true|        true|2024-12-27 20:09:36|2024-12-27 20:11:...|\n",
      "|28569|1815968345907104578|                  5|                 23|        true|      true|        true|2024-12-27 20:09:36|2024-12-27 20:12:...|\n",
      "|30967|1815968345907104578|                  5|                 23|        true|      true|        true|2024-12-27 20:11:37|2024-12-27 20:13:...|\n",
      "|33194|1815968345907104578|                  5|                 23|        true|      true|        true|2024-12-27 20:12:31|2024-12-27 20:14:...|\n",
      "|35439|1815968345907104578|                  5|                 23|        true|      true|        true|2024-12-27 20:13:39|2024-12-27 20:15:...|\n",
      "|37678|1815968345907104578|                  5|                 23|        true|      true|        true|2024-12-27 20:14:36|2024-12-27 20:16:...|\n",
      "|39939|1815968345907104578|                  5|                 23|        true|      true|        true|2024-12-27 20:15:40|2024-12-27 20:17:...|\n",
      "|42004|1815968345907104578|                  5|                 23|        true|      true|        true|2024-12-27 20:15:40|2024-12-27 20:18:...|\n",
      "|44390|1815968345907104578|                  5|                 23|        true|      true|        true|2024-12-27 20:17:41|2024-12-27 20:19:...|\n",
      "+-----+-------------------+-------------------+-------------------+------------+----------+------------+-------------------+--------------------+\n",
      "only showing top 20 rows\n",
      "\n"
     ]
    }
   ],
   "execution_count": 18
  }
 ],
 "metadata": {
  "kernelspec": {
   "display_name": "Python 3",
   "language": "python",
   "name": "python3"
  },
  "language_info": {
   "codemirror_mode": {
    "name": "ipython",
    "version": 2
   },
   "file_extension": ".py",
   "mimetype": "text/x-python",
   "name": "python",
   "nbconvert_exporter": "python",
   "pygments_lexer": "ipython2",
   "version": "2.7.6"
  }
 },
 "nbformat": 4,
 "nbformat_minor": 5
}
