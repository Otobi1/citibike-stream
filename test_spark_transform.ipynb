{
 "cells": [
  {
   "metadata": {
    "collapsed": true,
    "ExecuteTime": {
     "end_time": "2024-12-27T18:59:38.356354Z",
     "start_time": "2024-12-27T18:59:38.079356Z"
    }
   },
   "cell_type": "code",
   "source": "import pyspark",
   "id": "initial_id",
   "outputs": [],
   "execution_count": 1
  },
  {
   "metadata": {
    "ExecuteTime": {
     "end_time": "2024-12-27T18:59:39.513322Z",
     "start_time": "2024-12-27T18:59:39.506707Z"
    }
   },
   "cell_type": "code",
   "source": "pyspark.__version__",
   "id": "b93434313faeb955",
   "outputs": [
    {
     "data": {
      "text/plain": [
       "'3.5.4'"
      ]
     },
     "execution_count": 2,
     "metadata": {},
     "output_type": "execute_result"
    }
   ],
   "execution_count": 2
  },
  {
   "metadata": {
    "ExecuteTime": {
     "end_time": "2024-12-27T18:59:40.862255Z",
     "start_time": "2024-12-27T18:59:40.857021Z"
    }
   },
   "cell_type": "code",
   "source": "pyspark.__file__",
   "id": "f98397826ebef3cf",
   "outputs": [
    {
     "data": {
      "text/plain": [
       "'/Users/tobi/Documents/projects/citibike-stream/citivenv/lib/python3.13/site-packages/pyspark/__init__.py'"
      ]
     },
     "execution_count": 3,
     "metadata": {},
     "output_type": "execute_result"
    }
   ],
   "execution_count": 3
  },
  {
   "metadata": {
    "ExecuteTime": {
     "end_time": "2024-12-27T18:59:42.725905Z",
     "start_time": "2024-12-27T18:59:42.723774Z"
    }
   },
   "cell_type": "code",
   "source": "from pyspark.sql import SparkSession",
   "id": "5dc16b1130bc73aa",
   "outputs": [],
   "execution_count": 4
  },
  {
   "metadata": {
    "ExecuteTime": {
     "end_time": "2024-12-27T18:59:44.609526Z",
     "start_time": "2024-12-27T18:59:44.605163Z"
    }
   },
   "cell_type": "code",
   "source": "pwd",
   "id": "251d0376b4bca875",
   "outputs": [
    {
     "data": {
      "text/plain": [
       "'/Users/tobi/Documents/projects/citibike-stream'"
      ]
     },
     "execution_count": 5,
     "metadata": {},
     "output_type": "execute_result"
    }
   ],
   "execution_count": 5
  },
  {
   "metadata": {
    "ExecuteTime": {
     "end_time": "2024-12-27T18:59:46.119827Z",
     "start_time": "2024-12-27T18:59:46.116288Z"
    }
   },
   "cell_type": "code",
   "source": "jdbc_driver_path = \"./python_app/jars/postgresql-42.5.4.jar\"",
   "id": "9eff16c02d8982f2",
   "outputs": [],
   "execution_count": 6
  },
  {
   "metadata": {
    "ExecuteTime": {
     "end_time": "2024-12-27T18:59:51.663240Z",
     "start_time": "2024-12-27T18:59:48.167582Z"
    }
   },
   "cell_type": "code",
   "source": [
    "spark = SparkSession.builder \\\n",
    "         .appName(\"testCitiBikeStationStatusTransform\") \\\n",
    "         .config(\"spark.jars\", jdbc_driver_path) \\\n",
    "         .master(\"local[*]\") \\\n",
    "         .getOrCreate()"
   ],
   "id": "4cf99d8809e9f8ba",
   "outputs": [
    {
     "name": "stderr",
     "output_type": "stream",
     "text": [
      "24/12/27 19:59:50 WARN NativeCodeLoader: Unable to load native-hadoop library for your platform... using builtin-java classes where applicable\n",
      "Setting default log level to \"WARN\".\n",
      "To adjust logging level use sc.setLogLevel(newLevel). For SparkR, use setLogLevel(newLevel).\n"
     ]
    }
   ],
   "execution_count": 7
  },
  {
   "metadata": {
    "ExecuteTime": {
     "end_time": "2024-12-27T19:03:36.815471Z",
     "start_time": "2024-12-27T19:03:36.797152Z"
    }
   },
   "cell_type": "code",
   "source": [
    "# POSTGRESQL connection parameters\n",
    "# POSTGRESQL_HOST = \"postgres\"\n",
    "POSTGRESQL_PORT = \"5432\"\n",
    "POSTGRES_DB = \"citibike_db\"\n",
    "POSTGRES_USER = \"citibike_user\"\n",
    "POSTGRES_PASSWORD = \"citibike_pass\"\n",
    "\n",
    "# JDBC URL\n",
    "# jdbc_url = f\"jdbc:postgresql://{POSTGRESQL_HOST}:{POSTGRESQL_PORT}/{POSTGRES_DB}\"\n",
    "\n",
    "jdbc_url = f\"jdbc:postgresql://localhost:{POSTGRESQL_PORT}/{POSTGRES_DB}\"\n",
    "\n",
    "# Connection properties\n",
    "connection_properties = {\n",
    "    \"user\": POSTGRES_USER,\n",
    "    \"password\": POSTGRES_PASSWORD,\n",
    "    \"driver\": \"org.postgresql.Driver\"\n",
    "}"
   ],
   "id": "54fc4d79fe6a3ffc",
   "outputs": [],
   "execution_count": 10
  },
  {
   "metadata": {
    "ExecuteTime": {
     "end_time": "2024-12-27T19:03:39.335924Z",
     "start_time": "2024-12-27T19:03:38.703895Z"
    }
   },
   "cell_type": "code",
   "source": [
    "df = spark.read \\\n",
    "    .jdbc(url=jdbc_url,\n",
    "          table=\"station_status\",\n",
    "          properties=connection_properties\n",
    "          )"
   ],
   "id": "81fea84b3fc4eb2a",
   "outputs": [],
   "execution_count": 11
  },
  {
   "metadata": {
    "ExecuteTime": {
     "end_time": "2024-12-27T19:03:41.990525Z",
     "start_time": "2024-12-27T19:03:41.983371Z"
    }
   },
   "cell_type": "code",
   "source": [
    "# Display schema\n",
    "df.printSchema()"
   ],
   "id": "3e206e50a8a8f416",
   "outputs": [
    {
     "name": "stdout",
     "output_type": "stream",
     "text": [
      "root\n",
      " |-- station_id: string (nullable = true)\n",
      " |-- num_bikes_available: integer (nullable = true)\n",
      " |-- num_docks_available: integer (nullable = true)\n",
      " |-- last_reported: timestamp (nullable = true)\n",
      " |-- is_installed: boolean (nullable = true)\n",
      " |-- is_renting: boolean (nullable = true)\n",
      " |-- is_returning: boolean (nullable = true)\n",
      "\n"
     ]
    }
   ],
   "execution_count": 12
  },
  {
   "metadata": {
    "ExecuteTime": {
     "end_time": "2024-12-27T19:05:18.852015Z",
     "start_time": "2024-12-27T19:05:17.054171Z"
    }
   },
   "cell_type": "code",
   "source": "df.show()",
   "id": "d09b6dd2489ab9f4",
   "outputs": [
    {
     "name": "stdout",
     "output_type": "stream",
     "text": [
      "+--------------------+-------------------+-------------------+-------------------+------------+----------+------------+\n",
      "|          station_id|num_bikes_available|num_docks_available|      last_reported|is_installed|is_renting|is_returning|\n",
      "+--------------------+-------------------+-------------------+-------------------+------------+----------+------------+\n",
      "|18b19467-28ac-449...|                 12|                 17|2024-12-27 19:03:19|        true|      true|        true|\n",
      "|7c42f9fc-d280-484...|                  9|                 11|2024-12-27 19:03:20|        true|      true|        true|\n",
      "|66dbe441-0aca-11e...|                 49|                 21|2024-12-27 19:04:00|        true|      true|        true|\n",
      "|d8778570-f7f2-458...|                 37|                 12|2024-12-27 19:02:44|        true|      true|        true|\n",
      "| 1860189190334925058|                  7|                 12|2024-12-27 19:03:06|        true|      true|        true|\n",
      "|837b7db3-55c6-459...|                  4|                 13|2024-12-27 19:02:42|        true|      true|        true|\n",
      "|bf093f72-1d8d-44a...|                 20|                  1|2024-12-27 19:02:44|        true|      true|        true|\n",
      "|66dcbac5-0aca-11e...|                  6|                 13|2024-12-27 19:02:27|        true|      true|        true|\n",
      "|922763d6-d73c-467...|                 19|                  1|2024-12-27 19:03:21|        true|      true|        true|\n",
      "| 1887292564377354448|                 23|                  7|2024-12-27 19:03:30|        true|      true|        true|\n",
      "|7f4753d7-8d58-48b...|                 18|                  6|2024-12-27 19:03:55|        true|      true|        true|\n",
      "|d979131e-0b9f-4aa...|                 11|                  8|2024-12-27 19:04:02|        true|      true|        true|\n",
      "|d319629d-63cf-476...|                 15|                  3|2024-12-27 19:03:50|        true|      true|        true|\n",
      "|fbee1143-e93f-418...|                  8|                 42|2024-12-27 19:03:53|        true|      true|        true|\n",
      "|1d3a8670-09b3-412...|                  5|                 14|2024-12-27 19:03:28|        true|      true|        true|\n",
      "|062ffe5a-aa91-412...|                  5|                 14|2024-12-27 19:02:58|        true|      true|        true|\n",
      "|5adcaaaf-5386-441...|                  3|                 19|2024-12-27 19:02:14|        true|      true|        true|\n",
      "|66de5ace-0aca-11e...|                 16|                  7|2024-12-27 19:03:10|        true|      true|        true|\n",
      "|bc9c9006-3d40-400...|                  4|                 23|2024-12-27 19:03:47|        true|      true|        true|\n",
      "|66dd2060-0aca-11e...|                 40|                  9|2024-12-27 19:03:33|        true|      true|        true|\n",
      "+--------------------+-------------------+-------------------+-------------------+------------+----------+------------+\n",
      "only showing top 20 rows\n",
      "\n"
     ]
    }
   ],
   "execution_count": 13
  },
  {
   "metadata": {
    "ExecuteTime": {
     "end_time": "2024-12-27T19:06:15.135648Z",
     "start_time": "2024-12-27T19:06:15.099227Z"
    }
   },
   "cell_type": "code",
   "source": "df.dtypes",
   "id": "eaaed3e330eacb42",
   "outputs": [
    {
     "data": {
      "text/plain": [
       "[('station_id', 'string'),\n",
       " ('num_bikes_available', 'int'),\n",
       " ('num_docks_available', 'int'),\n",
       " ('last_reported', 'timestamp'),\n",
       " ('is_installed', 'boolean'),\n",
       " ('is_renting', 'boolean'),\n",
       " ('is_returning', 'boolean')]"
      ]
     },
     "execution_count": 14,
     "metadata": {},
     "output_type": "execute_result"
    }
   ],
   "execution_count": 14
  },
  {
   "metadata": {},
   "cell_type": "code",
   "outputs": [],
   "execution_count": null,
   "source": "",
   "id": "6e24c1c0b8d8dd2a"
  }
 ],
 "metadata": {
  "kernelspec": {
   "display_name": "Python 3",
   "language": "python",
   "name": "python3"
  },
  "language_info": {
   "codemirror_mode": {
    "name": "ipython",
    "version": 2
   },
   "file_extension": ".py",
   "mimetype": "text/x-python",
   "name": "python",
   "nbconvert_exporter": "python",
   "pygments_lexer": "ipython2",
   "version": "2.7.6"
  }
 },
 "nbformat": 4,
 "nbformat_minor": 5
}
