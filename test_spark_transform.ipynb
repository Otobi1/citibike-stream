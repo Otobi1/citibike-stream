{
 "cells": [
  {
   "metadata": {
    "collapsed": true,
    "ExecuteTime": {
     "end_time": "2024-12-31T12:47:22.004909Z",
     "start_time": "2024-12-31T12:47:21.889138Z"
    }
   },
   "cell_type": "code",
   "source": [
    "import pyspark\n",
    "from pyspark.sql import SparkSession"
   ],
   "id": "initial_id",
   "outputs": [],
   "execution_count": 1
  },
  {
   "metadata": {
    "ExecuteTime": {
     "end_time": "2024-12-31T12:47:23.394840Z",
     "start_time": "2024-12-31T12:47:23.391805Z"
    }
   },
   "cell_type": "code",
   "source": [
    "# pyspark.__version__\n",
    "# pyspark.__file__\n",
    "# pwd"
   ],
   "id": "b93434313faeb955",
   "outputs": [],
   "execution_count": 2
  },
  {
   "metadata": {
    "ExecuteTime": {
     "end_time": "2024-12-31T12:47:28.368959Z",
     "start_time": "2024-12-31T12:47:25.072645Z"
    }
   },
   "cell_type": "code",
   "source": [
    "jdbc_driver_path = \"./python_app/jars/postgresql-42.5.4.jar\"\n",
    "\n",
    "spark = SparkSession.builder \\\n",
    "    .appName(\"testCitiBikeStationStatusTransform\") \\\n",
    "    .config(\"spark.jars\", jdbc_driver_path) \\\n",
    "    .config(\"spark.driver.memory\", \"8g\") \\\n",
    "    .config(\"spark.memory.fraction\", \"0.8\") \\\n",
    "    .master(\"local[4]\") \\\n",
    "    .getOrCreate()\n",
    "\n",
    "spark.sparkContext.setLogLevel(\"INFO\")"
   ],
   "id": "4cf99d8809e9f8ba",
   "outputs": [
    {
     "name": "stderr",
     "output_type": "stream",
     "text": [
      "24/12/31 13:47:26 WARN NativeCodeLoader: Unable to load native-hadoop library for your platform... using builtin-java classes where applicable\n",
      "Setting default log level to \"WARN\".\n",
      "To adjust logging level use sc.setLogLevel(newLevel). For SparkR, use setLogLevel(newLevel).\n"
     ]
    }
   ],
   "execution_count": 3
  },
  {
   "metadata": {
    "ExecuteTime": {
     "end_time": "2024-12-31T12:47:30.147036Z",
     "start_time": "2024-12-31T12:47:30.143836Z"
    }
   },
   "cell_type": "code",
   "source": [
    "# POSTGRESQL connection parameters\n",
    "# POSTGRESQL_HOST = \"postgres\"\n",
    "POSTGRESQL_PORT = \"5432\"\n",
    "POSTGRES_DB = \"citibike_db\"\n",
    "POSTGRES_USER = \"citibike_user\"\n",
    "POSTGRES_PASSWORD = \"citibike_pass\"\n",
    "\n",
    "# JDBC URL\n",
    "# jdbc_url = f\"jdbc:postgresql://{POSTGRESQL_HOST}:{POSTGRESQL_PORT}/{POSTGRES_DB}\"\n",
    "\n",
    "jdbc_url = f\"jdbc:postgresql://localhost:{POSTGRESQL_PORT}/{POSTGRES_DB}\"\n",
    "\n",
    "# Connection properties\n",
    "connection_properties = {\n",
    "    \"user\": POSTGRES_USER,\n",
    "    \"password\": POSTGRES_PASSWORD,\n",
    "    \"driver\": \"org.postgresql.Driver\"\n",
    "}"
   ],
   "id": "54fc4d79fe6a3ffc",
   "outputs": [],
   "execution_count": 4
  },
  {
   "metadata": {},
   "cell_type": "code",
   "source": [
    "df_station_status = spark.read \\\n",
    "    .jdbc(url=jdbc_url,\n",
    "          table=\"station_status\",\n",
    "          properties=connection_properties\n",
    "          )\n",
    "df_station_status.printSchema()"
   ],
   "id": "81fea84b3fc4eb2a",
   "outputs": [],
   "execution_count": null
  },
  {
   "metadata": {},
   "cell_type": "code",
   "source": [
    "df_station_info = spark.read \\\n",
    "    .jdbc(url=jdbc_url,\n",
    "            table=\"station_information\",\n",
    "            properties=connection_properties\n",
    "            )\n",
    "df_station_info.printSchema()"
   ],
   "id": "2c6d1bdcc8a40c70",
   "outputs": [],
   "execution_count": null
  },
  {
   "metadata": {
    "ExecuteTime": {
     "end_time": "2024-12-31T12:48:05.407938Z",
     "start_time": "2024-12-31T12:48:03.694586Z"
    }
   },
   "cell_type": "code",
   "source": [
    "df_tripdata = spark.read \\\n",
    "    .jdbc(url=jdbc_url,\n",
    "            table=\"tripdata\",\n",
    "            properties=connection_properties\n",
    "            )\n",
    "df_tripdata.printSchema()"
   ],
   "id": "ada915955f7d74c7",
   "outputs": [
    {
     "name": "stderr",
     "output_type": "stream",
     "text": [
      "24/12/31 13:48:03 INFO SharedState: Setting hive.metastore.warehouse.dir ('null') to the value of spark.sql.warehouse.dir.\n",
      "24/12/31 13:48:03 INFO SharedState: Warehouse path is 'file:/Users/tobi/Documents/projects/citibike-stream/spark-warehouse'.\n"
     ]
    },
    {
     "name": "stdout",
     "output_type": "stream",
     "text": [
      "root\n",
      " |-- ride_id: string (nullable = true)\n",
      " |-- rideable_type: string (nullable = true)\n",
      " |-- started_at: timestamp (nullable = true)\n",
      " |-- ended_at: timestamp (nullable = true)\n",
      " |-- start_station_name: string (nullable = true)\n",
      " |-- start_station_id: string (nullable = true)\n",
      " |-- end_station_name: string (nullable = true)\n",
      " |-- end_station_id: string (nullable = true)\n",
      " |-- start_lat: decimal(9,6) (nullable = true)\n",
      " |-- start_lng: decimal(9,6) (nullable = true)\n",
      " |-- end_lat: decimal(9,6) (nullable = true)\n",
      " |-- end_lng: decimal(9,6) (nullable = true)\n",
      " |-- member_casual: string (nullable = true)\n",
      " |-- month: date (nullable = true)\n",
      "\n"
     ]
    }
   ],
   "execution_count": 5
  },
  {
   "metadata": {},
   "cell_type": "code",
   "source": "df_station_status.show(5)",
   "id": "d09b6dd2489ab9f4",
   "outputs": [],
   "execution_count": null
  },
  {
   "metadata": {},
   "cell_type": "code",
   "source": "df_station_info.show(5)",
   "id": "fe1c441d4b7a09ba",
   "outputs": [],
   "execution_count": null
  },
  {
   "metadata": {
    "ExecuteTime": {
     "end_time": "2024-12-31T12:48:29.362757Z",
     "start_time": "2024-12-31T12:48:21.473127Z"
    }
   },
   "cell_type": "code",
   "source": "df_tripdata.show(5)",
   "id": "fab5eddf6d03fc0",
   "outputs": [
    {
     "name": "stderr",
     "output_type": "stream",
     "text": [
      "24/12/31 13:48:22 INFO CodeGenerator: Code generated in 219.462542 ms\n",
      "24/12/31 13:48:22 INFO SparkContext: Starting job: showString at NativeMethodAccessorImpl.java:0\n",
      "24/12/31 13:48:22 INFO DAGScheduler: Got job 0 (showString at NativeMethodAccessorImpl.java:0) with 1 output partitions\n",
      "24/12/31 13:48:22 INFO DAGScheduler: Final stage: ResultStage 0 (showString at NativeMethodAccessorImpl.java:0)\n",
      "24/12/31 13:48:22 INFO DAGScheduler: Parents of final stage: List()\n",
      "24/12/31 13:48:22 INFO DAGScheduler: Missing parents: List()\n",
      "24/12/31 13:48:22 INFO DAGScheduler: Submitting ResultStage 0 (MapPartitionsRDD[2] at showString at NativeMethodAccessorImpl.java:0), which has no missing parents\n",
      "24/12/31 13:48:22 INFO MemoryStore: Block broadcast_0 stored as values in memory (estimated size 18.2 KiB, free 6.2 GiB)\n",
      "24/12/31 13:48:23 INFO MemoryStore: Block broadcast_0_piece0 stored as bytes in memory (estimated size 7.9 KiB, free 6.2 GiB)\n",
      "24/12/31 13:48:23 INFO BlockManagerInfo: Added broadcast_0_piece0 in memory on macbookpro.fritz.box:62629 (size: 7.9 KiB, free: 6.2 GiB)\n",
      "24/12/31 13:48:23 INFO SparkContext: Created broadcast 0 from broadcast at DAGScheduler.scala:1585\n",
      "24/12/31 13:48:23 INFO DAGScheduler: Submitting 1 missing tasks from ResultStage 0 (MapPartitionsRDD[2] at showString at NativeMethodAccessorImpl.java:0) (first 15 tasks are for partitions Vector(0))\n",
      "24/12/31 13:48:23 INFO TaskSchedulerImpl: Adding task set 0.0 with 1 tasks resource profile 0\n",
      "24/12/31 13:48:23 INFO TaskSetManager: Starting task 0.0 in stage 0.0 (TID 0) (macbookpro.fritz.box, executor driver, partition 0, PROCESS_LOCAL, 9033 bytes) \n",
      "24/12/31 13:48:23 INFO Executor: Running task 0.0 in stage 0.0 (TID 0)\n",
      "24/12/31 13:48:28 INFO CodeGenerator: Code generated in 40.905541 ms(0 + 1) / 1]\n",
      "24/12/31 13:48:28 INFO JDBCRDD: closed connection\n",
      "24/12/31 13:48:28 INFO Executor: Finished task 0.0 in stage 0.0 (TID 0). 2473 bytes result sent to driver\n",
      "24/12/31 13:48:28 INFO TaskSetManager: Finished task 0.0 in stage 0.0 (TID 0) in 5356 ms on macbookpro.fritz.box (executor driver) (1/1)\n",
      "24/12/31 13:48:28 INFO TaskSchedulerImpl: Removed TaskSet 0.0, whose tasks have all completed, from pool \n",
      "24/12/31 13:48:28 INFO DAGScheduler: ResultStage 0 (showString at NativeMethodAccessorImpl.java:0) finished in 6,018 s\n",
      "24/12/31 13:48:28 INFO DAGScheduler: Job 0 is finished. Cancelling potential speculative or zombie tasks for this job\n",
      "24/12/31 13:48:28 INFO TaskSchedulerImpl: Killing all running tasks in stage 0: Stage finished\n",
      "24/12/31 13:48:28 INFO DAGScheduler: Job 0 finished: showString at NativeMethodAccessorImpl.java:0, took 6,049355 s\n",
      "                                                                                \r"
     ]
    },
    {
     "name": "stdout",
     "output_type": "stream",
     "text": [
      "+----------------+-------------+-------------------+-------------------+--------------------+----------------+--------------------+--------------+---------+----------+---------+----------+-------------+----------+\n",
      "|         ride_id|rideable_type|         started_at|           ended_at|  start_station_name|start_station_id|    end_station_name|end_station_id|start_lat| start_lng|  end_lat|   end_lng|member_casual|     month|\n",
      "+----------------+-------------+-------------------+-------------------+--------------------+----------------+--------------------+--------------+---------+----------+---------+----------+-------------+----------+\n",
      "|3F874FD7056276BA|electric_bike|2024-10-31 00:00:00|2024-11-01 00:00:00|    W 30 St & 10 Ave|         6459.07|Cleveland Pl & Sp...|       5492.05|40.752694|-74.002353|40.722104|-73.997249|       member|2024-10-01|\n",
      "|E4FE320A5D6A8901| classic_bike|2024-10-31 00:00:00|2024-11-01 00:00:00|Sullivan St & Was...|         5721.01|Cleveland Pl & Sp...|       5492.05|40.730477|-73.999061|40.722104|-73.997249|       casual|2024-10-01|\n",
      "|D9B974903E41D0C6|electric_bike|2024-10-31 00:00:00|2024-11-01 00:00:00|Sullivan St & Was...|         5721.01|Cleveland Pl & Sp...|       5492.05|40.730477|-73.999061|40.722104|-73.997249|       casual|2024-10-01|\n",
      "|35AE372A27FAE5AC|electric_bike|2024-10-31 00:00:00|2024-11-01 00:00:00|     E 88 St & 1 Ave|         7235.13|     6 Ave & W 34 St|        6364.1|40.778301|-73.948813|40.749640|-73.988050|       member|2024-10-01|\n",
      "|DF9352DCAA03696C|electric_bike|2024-10-31 00:00:00|2024-11-01 00:00:00| W 12 St & Hudson St|         5997.10|Cleveland Pl & Sp...|       5492.05|40.737530|-74.005589|40.722104|-73.997249|       member|2024-10-01|\n",
      "+----------------+-------------+-------------------+-------------------+--------------------+----------------+--------------------+--------------+---------+----------+---------+----------+-------------+----------+\n",
      "only showing top 5 rows\n",
      "\n"
     ]
    },
    {
     "name": "stderr",
     "output_type": "stream",
     "text": [
      "24/12/31 13:48:29 INFO CodeGenerator: Code generated in 24.863375 ms\n"
     ]
    }
   ],
   "execution_count": 6
  },
  {
   "metadata": {
    "ExecuteTime": {
     "end_time": "2024-12-31T12:48:57.587850Z",
     "start_time": "2024-12-31T12:48:57.562153Z"
    }
   },
   "cell_type": "code",
   "source": "df_tripdata.dtypes",
   "id": "eaaed3e330eacb42",
   "outputs": [
    {
     "data": {
      "text/plain": [
       "[('ride_id', 'string'),\n",
       " ('rideable_type', 'string'),\n",
       " ('started_at', 'timestamp'),\n",
       " ('ended_at', 'timestamp'),\n",
       " ('start_station_name', 'string'),\n",
       " ('start_station_id', 'string'),\n",
       " ('end_station_name', 'string'),\n",
       " ('end_station_id', 'string'),\n",
       " ('start_lat', 'decimal(9,6)'),\n",
       " ('start_lng', 'decimal(9,6)'),\n",
       " ('end_lat', 'decimal(9,6)'),\n",
       " ('end_lng', 'decimal(9,6)'),\n",
       " ('member_casual', 'string'),\n",
       " ('month', 'date')]"
      ]
     },
     "execution_count": 7,
     "metadata": {},
     "output_type": "execute_result"
    }
   ],
   "execution_count": 7
  },
  {
   "metadata": {},
   "cell_type": "code",
   "source": "from pyspark.sql import types",
   "id": "2fd0de12e5953470",
   "outputs": [],
   "execution_count": null
  },
  {
   "metadata": {},
   "cell_type": "code",
   "source": [
    "df_citibike_schema = \\\n",
    "    types.StructType([\n",
    "        types.StructField(\"id\", types.IntegerType(), False),\n",
    "        types.StructField(\"station_id\", types.StringType(), True),\n",
    "        types.StructField(\"num_bikes_available\", types.IntegerType(), True),\n",
    "        types.StructField(\"num_docks_available\", types.IntegerType(), True),\n",
    "        types.StructField(\"is_installed\", types.BooleanType(), True),\n",
    "        types.StructField(\"is_renting\", types.BooleanType(), True),\n",
    "        types.StructField(\"is_returning\", types.BooleanType(), True),\n",
    "        types.StructField(\"last_reported\", types.TimestampType(), True),\n",
    "        types.StructField(\"inserted_at\", types.TimestampType(), True)\n",
    "    ])"
   ],
   "id": "6e24c1c0b8d8dd2a",
   "outputs": [],
   "execution_count": null
  },
  {
   "metadata": {},
   "cell_type": "code",
   "source": "df.createOrReplaceTempView(\"station_status\")",
   "id": "2921462534021d28",
   "outputs": [],
   "execution_count": null
  },
  {
   "metadata": {},
   "cell_type": "code",
   "source": "spark.sql(\"SELECT * FROM station_status\").show()",
   "id": "6faf55028edf53fe",
   "outputs": [],
   "execution_count": null
  },
  {
   "metadata": {},
   "cell_type": "code",
   "source": [
    "agg_day = \\\n",
    "    spark.sql(\"\"\"\n",
    "              select\n",
    "                date_trunc('day', last_reported) as date,\n",
    "                count(*) as total_records\n",
    "              from station_status\n",
    "              group by date\n",
    "              order by date desc\n",
    "              \"\"\").show()"
   ],
   "id": "f49855ed01708089",
   "outputs": [],
   "execution_count": null
  },
  {
   "metadata": {},
   "cell_type": "code",
   "source": [
    "check_station_id = \\\n",
    "    spark.sql(\"\"\"\n",
    "              select\n",
    "                *\n",
    "              from station_status\n",
    "              where station_id = '1815968345907104578'\n",
    "              -- group by station_id\n",
    "              -- order by total_records desc\n",
    "              \"\"\").show()"
   ],
   "id": "81610e64ff650cf",
   "outputs": [],
   "execution_count": null
  }
 ],
 "metadata": {
  "kernelspec": {
   "display_name": "Python 3",
   "language": "python",
   "name": "python3"
  },
  "language_info": {
   "codemirror_mode": {
    "name": "ipython",
    "version": 2
   },
   "file_extension": ".py",
   "mimetype": "text/x-python",
   "name": "python",
   "nbconvert_exporter": "python",
   "pygments_lexer": "ipython2",
   "version": "2.7.6"
  }
 },
 "nbformat": 4,
 "nbformat_minor": 5
}
